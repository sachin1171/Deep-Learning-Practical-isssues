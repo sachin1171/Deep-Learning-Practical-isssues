{
 "cells": [
  {
   "cell_type": "markdown",
   "metadata": {
    "id": "K028JN16waeG"
   },
   "source": [
    "# Build an ANN model to predict Delivery Status for a logistic firm\n",
    "\n",
    "\n",
    "(Refer fedex dataset)\n",
    "link: [fedex_data](https://drive.google.com/file/d/1yGPY8m73_U3i5HGJerV4eI07XOPe3INg/view?usp=sharing)\n",
    "\n"
   ]
  },
  {
   "cell_type": "code",
   "execution_count": 1,
   "metadata": {
    "id": "gmejXvZjBWs7"
   },
   "outputs": [],
   "source": [
    "import pandas as pd\n",
    "from sklearn.preprocessing import LabelEncoder\n",
    "from sklearn.model_selection import train_test_split\n",
    "from sklearn.preprocessing import StandardScaler\n",
    "import seaborn as sns\n",
    "import keras\n",
    "from keras.models import Sequential\n",
    "from keras.layers import Dense\n",
    "from keras.wrappers.scikit_learn import KerasClassifier\n",
    "from sklearn.model_selection import cross_val_score"
   ]
  },
  {
   "cell_type": "code",
   "execution_count": null,
   "metadata": {
    "id": "sriefYokxeIt"
   },
   "outputs": [],
   "source": []
  },
  {
   "cell_type": "code",
   "execution_count": 3,
   "metadata": {
    "id": "pwQaUHemB_Sk"
   },
   "outputs": [],
   "source": [
    "#loading fedex_data\n",
    "path = \"C:/Users/usach/Desktop/AI assignments/Module 7/fedex.csv\"\n",
    "fedex_data = pd.read_csv(path)"
   ]
  },
  {
   "cell_type": "code",
   "execution_count": 4,
   "metadata": {
    "colab": {
     "base_uri": "https://localhost:8080/"
    },
    "id": "s8PAWC46GzKM",
    "outputId": "025a305f-d28a-46e6-d666-13269416e22f"
   },
   "outputs": [
    {
     "data": {
      "text/plain": [
       "245353"
      ]
     },
     "execution_count": 4,
     "metadata": {},
     "output_type": "execute_result"
    }
   ],
   "source": [
    "#checking for Nan's / nulls\n",
    "fedex_data.isnull().sum().sum()"
   ]
  },
  {
   "cell_type": "code",
   "execution_count": 5,
   "metadata": {
    "colab": {
     "base_uri": "https://localhost:8080/"
    },
    "id": "lJBLkotPHPOT",
    "outputId": "bd521eee-c022-48ec-b2fd-c6fb14e32065"
   },
   "outputs": [
    {
     "data": {
      "text/plain": [
       "0"
      ]
     },
     "execution_count": 5,
     "metadata": {},
     "output_type": "execute_result"
    }
   ],
   "source": [
    "# dropping the rows having NaN values and check\n",
    "fedex_data = fedex_data.dropna()\n",
    "fedex_data.isnull().sum().sum()"
   ]
  },
  {
   "cell_type": "code",
   "execution_count": 6,
   "metadata": {
    "colab": {
     "base_uri": "https://localhost:8080/",
     "height": 225
    },
    "id": "eucR9BBZCZFT",
    "outputId": "b41971bb-463f-4711-efdf-b72b7532439a"
   },
   "outputs": [
    {
     "data": {
      "text/html": [
       "<div>\n",
       "<style scoped>\n",
       "    .dataframe tbody tr th:only-of-type {\n",
       "        vertical-align: middle;\n",
       "    }\n",
       "\n",
       "    .dataframe tbody tr th {\n",
       "        vertical-align: top;\n",
       "    }\n",
       "\n",
       "    .dataframe thead th {\n",
       "        text-align: right;\n",
       "    }\n",
       "</style>\n",
       "<table border=\"1\" class=\"dataframe\">\n",
       "  <thead>\n",
       "    <tr style=\"text-align: right;\">\n",
       "      <th></th>\n",
       "      <th>Year</th>\n",
       "      <th>Month</th>\n",
       "      <th>DayofMonth</th>\n",
       "      <th>DayOfWeek</th>\n",
       "      <th>Actual_Shipment_Time</th>\n",
       "      <th>Planned_Shipment_Time</th>\n",
       "      <th>Planned_Delivery_Time</th>\n",
       "      <th>Carrier_Name</th>\n",
       "      <th>Carrier_Num</th>\n",
       "      <th>Planned_TimeofTravel</th>\n",
       "      <th>Shipment_Delay</th>\n",
       "      <th>Source</th>\n",
       "      <th>Destination</th>\n",
       "      <th>Distance</th>\n",
       "      <th>Delivery_Status</th>\n",
       "    </tr>\n",
       "  </thead>\n",
       "  <tbody>\n",
       "    <tr>\n",
       "      <th>0</th>\n",
       "      <td>2008</td>\n",
       "      <td>1</td>\n",
       "      <td>3</td>\n",
       "      <td>4</td>\n",
       "      <td>2003.0</td>\n",
       "      <td>1955</td>\n",
       "      <td>2225</td>\n",
       "      <td>WN</td>\n",
       "      <td>335</td>\n",
       "      <td>150.0</td>\n",
       "      <td>8.0</td>\n",
       "      <td>IAD</td>\n",
       "      <td>TPA</td>\n",
       "      <td>810</td>\n",
       "      <td>0.0</td>\n",
       "    </tr>\n",
       "    <tr>\n",
       "      <th>1</th>\n",
       "      <td>2008</td>\n",
       "      <td>1</td>\n",
       "      <td>3</td>\n",
       "      <td>4</td>\n",
       "      <td>754.0</td>\n",
       "      <td>735</td>\n",
       "      <td>1000</td>\n",
       "      <td>WN</td>\n",
       "      <td>3231</td>\n",
       "      <td>145.0</td>\n",
       "      <td>19.0</td>\n",
       "      <td>IAD</td>\n",
       "      <td>TPA</td>\n",
       "      <td>810</td>\n",
       "      <td>1.0</td>\n",
       "    </tr>\n",
       "    <tr>\n",
       "      <th>2</th>\n",
       "      <td>2008</td>\n",
       "      <td>1</td>\n",
       "      <td>3</td>\n",
       "      <td>4</td>\n",
       "      <td>628.0</td>\n",
       "      <td>620</td>\n",
       "      <td>750</td>\n",
       "      <td>WN</td>\n",
       "      <td>448</td>\n",
       "      <td>90.0</td>\n",
       "      <td>8.0</td>\n",
       "      <td>IND</td>\n",
       "      <td>BWI</td>\n",
       "      <td>515</td>\n",
       "      <td>0.0</td>\n",
       "    </tr>\n",
       "    <tr>\n",
       "      <th>3</th>\n",
       "      <td>2008</td>\n",
       "      <td>1</td>\n",
       "      <td>3</td>\n",
       "      <td>4</td>\n",
       "      <td>926.0</td>\n",
       "      <td>930</td>\n",
       "      <td>1100</td>\n",
       "      <td>WN</td>\n",
       "      <td>1746</td>\n",
       "      <td>90.0</td>\n",
       "      <td>-4.0</td>\n",
       "      <td>IND</td>\n",
       "      <td>BWI</td>\n",
       "      <td>515</td>\n",
       "      <td>0.0</td>\n",
       "    </tr>\n",
       "    <tr>\n",
       "      <th>4</th>\n",
       "      <td>2008</td>\n",
       "      <td>1</td>\n",
       "      <td>3</td>\n",
       "      <td>4</td>\n",
       "      <td>1829.0</td>\n",
       "      <td>1755</td>\n",
       "      <td>1925</td>\n",
       "      <td>WN</td>\n",
       "      <td>3920</td>\n",
       "      <td>90.0</td>\n",
       "      <td>34.0</td>\n",
       "      <td>IND</td>\n",
       "      <td>BWI</td>\n",
       "      <td>515</td>\n",
       "      <td>1.0</td>\n",
       "    </tr>\n",
       "  </tbody>\n",
       "</table>\n",
       "</div>"
      ],
      "text/plain": [
       "   Year  Month  DayofMonth  DayOfWeek  Actual_Shipment_Time  \\\n",
       "0  2008      1           3          4                2003.0   \n",
       "1  2008      1           3          4                 754.0   \n",
       "2  2008      1           3          4                 628.0   \n",
       "3  2008      1           3          4                 926.0   \n",
       "4  2008      1           3          4                1829.0   \n",
       "\n",
       "   Planned_Shipment_Time  Planned_Delivery_Time Carrier_Name  Carrier_Num  \\\n",
       "0                   1955                   2225           WN          335   \n",
       "1                    735                   1000           WN         3231   \n",
       "2                    620                    750           WN          448   \n",
       "3                    930                   1100           WN         1746   \n",
       "4                   1755                   1925           WN         3920   \n",
       "\n",
       "   Planned_TimeofTravel  Shipment_Delay Source Destination  Distance  \\\n",
       "0                 150.0             8.0    IAD         TPA       810   \n",
       "1                 145.0            19.0    IAD         TPA       810   \n",
       "2                  90.0             8.0    IND         BWI       515   \n",
       "3                  90.0            -4.0    IND         BWI       515   \n",
       "4                  90.0            34.0    IND         BWI       515   \n",
       "\n",
       "   Delivery_Status  \n",
       "0              0.0  \n",
       "1              1.0  \n",
       "2              0.0  \n",
       "3              0.0  \n",
       "4              1.0  "
      ]
     },
     "execution_count": 6,
     "metadata": {},
     "output_type": "execute_result"
    }
   ],
   "source": [
    "fedex_data.head(5)"
   ]
  },
  {
   "cell_type": "code",
   "execution_count": 7,
   "metadata": {
    "colab": {
     "base_uri": "https://localhost:8080/"
    },
    "id": "5SXwunX_DGB5",
    "outputId": "fd9bc9b5-7d35-4d00-83f9-15db4853a50a"
   },
   "outputs": [
    {
     "data": {
      "text/plain": [
       "Index(['Year', 'Month', 'DayofMonth', 'DayOfWeek', 'Actual_Shipment_Time',\n",
       "       'Planned_Shipment_Time', 'Planned_Delivery_Time', 'Carrier_Name',\n",
       "       'Carrier_Num', 'Planned_TimeofTravel', 'Shipment_Delay', 'Source',\n",
       "       'Destination', 'Distance', 'Delivery_Status'],\n",
       "      dtype='object')"
      ]
     },
     "execution_count": 7,
     "metadata": {},
     "output_type": "execute_result"
    }
   ],
   "source": [
    "#columns\n",
    "fedex_data.columns"
   ]
  },
  {
   "cell_type": "code",
   "execution_count": 8,
   "metadata": {
    "colab": {
     "base_uri": "https://localhost:8080/"
    },
    "id": "YpQsq5v9DNwh",
    "outputId": "6167d7f9-1677-46e6-e4bc-d42ea34ac123"
   },
   "outputs": [
    {
     "data": {
      "text/plain": [
       "0    0.0\n",
       "1    1.0\n",
       "2    0.0\n",
       "3    0.0\n",
       "4    1.0\n",
       "Name: Delivery_Status, dtype: float64"
      ]
     },
     "execution_count": 8,
     "metadata": {},
     "output_type": "execute_result"
    }
   ],
   "source": [
    "#viewing target\n",
    "fedex_data['Delivery_Status'].head(5)"
   ]
  },
  {
   "cell_type": "code",
   "execution_count": 9,
   "metadata": {
    "colab": {
     "base_uri": "https://localhost:8080/",
     "height": 363
    },
    "id": "JqzmC3PhDQur",
    "outputId": "f4eecdbf-8567-4c91-8aad-e592fb34833c"
   },
   "outputs": [
    {
     "name": "stderr",
     "output_type": "stream",
     "text": [
      "C:\\Users\\usach\\anaconda3\\lib\\site-packages\\seaborn\\_decorators.py:36: FutureWarning: Pass the following variable as a keyword arg: x. From version 0.12, the only valid positional argument will be `data`, and passing other arguments without an explicit keyword will result in an error or misinterpretation.\n",
      "  warnings.warn(\n"
     ]
    },
    {
     "data": {
      "text/plain": [
       "<AxesSubplot:xlabel='Delivery_Status', ylabel='count'>"
      ]
     },
     "execution_count": 9,
     "metadata": {},
     "output_type": "execute_result"
    },
    {
     "data": {
      "image/png": "[encoded data removed]",
      "text/plain": [
       "<Figure size 432x288 with 1 Axes>"
      ]
     },
     "metadata": {
      "needs_background": "light"
     },
     "output_type": "display_data"
    }
   ],
   "source": [
    "#Summary of Delivery_Status\n",
    "sns.countplot(fedex_data['Delivery_Status'],label=\"Count\")"
   ]
  },
  {
   "cell_type": "code",
   "execution_count": 10,
   "metadata": {
    "colab": {
     "base_uri": "https://localhost:8080/"
    },
    "id": "N7XJKH4cIinr",
    "outputId": "36c5d19b-5ca1-408e-a590-421a88aac469"
   },
   "outputs": [
    {
     "data": {
      "text/plain": [
       "0    IAD-TPA\n",
       "1    IAD-TPA\n",
       "2    IND-BWI\n",
       "3    IND-BWI\n",
       "4    IND-BWI\n",
       "Name: Path, dtype: object"
      ]
     },
     "execution_count": 10,
     "metadata": {},
     "output_type": "execute_result"
    }
   ],
   "source": [
    "#combining source and destination column into new Path column\n",
    "fedex_data['Path'] = fedex_data[['Source', 'Destination']].apply(lambda x: '-'.join(x), axis = 1)\n",
    "fedex_data['Path'].head(5)"
   ]
  },
  {
   "cell_type": "code",
   "execution_count": 11,
   "metadata": {
    "id": "ZJJdr2XQoqY1"
   },
   "outputs": [],
   "source": [
    "#droping 'Source' and 'Destination' along with 'Carrier_Name' since 'Carrier_Num' is already present\n",
    "fedex_data.drop(['Source', 'Destination', 'Carrier_Name'], axis = 1, inplace= True)"
   ]
  },
  {
   "cell_type": "code",
   "execution_count": 12,
   "metadata": {
    "id": "eQmTebqK3xph"
   },
   "outputs": [],
   "source": [
    "# Encoding categorical data\n",
    "from sklearn.preprocessing import LabelEncoder\n",
    "le = LabelEncoder()\n",
    "fedex_data['Path'] = le.fit_transform(fedex_data['Path'])"
   ]
  },
  {
   "cell_type": "code",
   "execution_count": 13,
   "metadata": {
    "id": "plpAGzOMpV_F"
   },
   "outputs": [],
   "source": [
    "#independent and dependent features\n",
    "X  = fedex_data.iloc[:, fedex_data.columns != 'Delivery_Status'].values #independent\n",
    "y = fedex_data['Delivery_Status'].values   #dependent"
   ]
  },
  {
   "cell_type": "code",
   "execution_count": 14,
   "metadata": {
    "colab": {
     "base_uri": "https://localhost:8080/"
    },
    "id": "nQxjmJUI82zu",
    "outputId": "905ff0dc-2196-4825-ad57-f7802ad51ed0"
   },
   "outputs": [
    {
     "name": "stdout",
     "output_type": "stream",
     "text": [
      "[[2.008e+03 1.000e+00 3.000e+00 4.000e+00 2.003e+03]\n",
      " [2.008e+03 1.000e+00 3.000e+00 4.000e+00 7.540e+02]\n",
      " [2.008e+03 1.000e+00 3.000e+00 4.000e+00 6.280e+02]\n",
      " ...\n",
      " [2.008e+03 6.000e+00 1.900e+01 4.000e+00 8.210e+02]\n",
      " [2.008e+03 6.000e+00 1.900e+01 4.000e+00 7.180e+02]\n",
      " [2.008e+03 6.000e+00 1.900e+01 4.000e+00 1.127e+03]]\n",
      "[0. 1. 0. ... 0. 0. 1.]\n"
     ]
    }
   ],
   "source": [
    "#Viewing Independent and dependent columns\n",
    "print(X[:,:5])\n",
    "print(y)"
   ]
  },
  {
   "cell_type": "code",
   "execution_count": 15,
   "metadata": {
    "id": "pFDVG_w6t1vs"
   },
   "outputs": [],
   "source": [
    "#Data split\n",
    "X_train, X_test, y_train, y_test = train_test_split(X, y,test_size = 0.3, random_state = 0)"
   ]
  },
  {
   "cell_type": "code",
   "execution_count": 16,
   "metadata": {
    "id": "0B7VXiXLIcXS"
   },
   "outputs": [],
   "source": [
    "#Scaling independent variables\n",
    "sc = StandardScaler()\n",
    "X_train = sc.fit_transform(X_train)\n",
    "X_test = sc.transform(X_test)"
   ]
  },
  {
   "cell_type": "code",
   "execution_count": 17,
   "metadata": {
    "colab": {
     "base_uri": "https://localhost:8080/"
    },
    "id": "h1neUlw5I8TO",
    "outputId": "57209a2a-2eec-4065-93d3-a65164b0fec9"
   },
   "outputs": [
    {
     "data": {
      "text/plain": [
       "array([[ 0.        ,  0.86185735,  1.74614772,  1.03721038, -1.42591428],\n",
       "       [ 0.        ,  0.27694058,  0.83287268, -0.47163277, -0.78813567],\n",
       "       [ 0.        ,  1.44677413, -0.53703988, -0.47163277,  0.60168157],\n",
       "       ...,\n",
       "       [ 0.        ,  0.27694058,  1.63198834, -0.47163277,  1.06079907],\n",
       "       [ 0.        , -0.3079762 ,  0.49039454,  0.03131495,  1.49290966],\n",
       "       [ 0.        , -1.47780975,  1.06119144,  0.53426266, -0.47444   ]])"
      ]
     },
     "execution_count": 17,
     "metadata": {},
     "output_type": "execute_result"
    }
   ],
   "source": [
    "# viewing scaled data\n",
    "X_train[:,:5]"
   ]
  },
  {
   "cell_type": "code",
   "execution_count": 18,
   "metadata": {
    "colab": {
     "base_uri": "https://localhost:8080/"
    },
    "id": "YvKhS8jtFQAj",
    "outputId": "8072f9c3-9a01-4f32-e7ed-057ec8f6c0e8"
   },
   "outputs": [
    {
     "name": "stdout",
     "output_type": "stream",
     "text": [
      "X_train (2465516, 12)\n",
      "X_test (1056651, 12)\n",
      "y_train (2465516,)\n",
      "y_test (1056651,)\n"
     ]
    }
   ],
   "source": [
    "print(\"X_train\",X_train.shape)\n",
    "print(\"X_test\",X_test.shape)\n",
    "print(\"y_train\",y_train.shape)\n",
    "print(\"y_test\",y_test.shape)"
   ]
  },
  {
   "cell_type": "code",
   "execution_count": 19,
   "metadata": {
    "id": "vjbG1CSvDfxy"
   },
   "outputs": [],
   "source": [
    "#defining the model\n",
    "#adding the input and first hidden layer\n",
    "def build_model():\n",
    "  model = Sequential()\n",
    "  model.add(Dense(10,activation='relu',input_shape=(12,)))\n",
    "  #adding the second hidden layer\n",
    "  model.add(Dense(6, activation='relu'))\n",
    "  #adding the output layer\n",
    "  model.add(Dense(1, activation='sigmoid'))\n",
    "  #compiling model\n",
    "  model.compile(optimizer='adam',loss='binary_crossentropy',metrics=['accuracy'])\n",
    "  return model"
   ]
  },
  {
   "cell_type": "code",
   "execution_count": 20,
   "metadata": {
    "id": "uKmZtoieHeMm"
   },
   "outputs": [],
   "source": [
    "#fitting model\n",
    "classifier = KerasClassifier(build_fn = build_model , batch_size = 512 , nb_epoch = 20)"
   ]
  },
  {
   "cell_type": "code",
   "execution_count": 21,
   "metadata": {
    "colab": {
     "base_uri": "https://localhost:8080/"
    },
    "id": "JkZ8vusPu2Ll",
    "outputId": "9ea96748-b762-4860-b6b2-76339d08fa8f"
   },
   "outputs": [],
   "source": [
    "#evaluating model\n",
    "accuracy = cross_val_score(estimator = classifier , X=X_train, y=y_train, cv =10 , n_jobs = -1)"
   ]
  },
  {
   "cell_type": "code",
   "execution_count": 22,
   "metadata": {
    "colab": {
     "base_uri": "https://localhost:8080/"
    },
    "id": "6A1VZ_eikGd5",
    "outputId": "870c6521-f4b1-4c73-fe29-67992de8f0ca"
   },
   "outputs": [
    {
     "name": "stdout",
     "output_type": "stream",
     "text": [
      "Mean accuracy: 99.98 %\n"
     ]
    }
   ],
   "source": [
    "print(\"Mean accuracy:\",format(100*accuracy.mean(),\".2f\"),\"%\")"
   ]
  }
 ],
 "metadata": {
  "accelerator": "GPU",
  "colab": {
   "collapsed_sections": [],
   "name": "ann2.ipynb",
   "provenance": []
  },
  "kernelspec": {
   "display_name": "Python 3",
   "language": "python",
   "name": "python3"
  },
  "language_info": {
   "codemirror_mode": {
    "name": "ipython",
    "version": 3
   },
   "file_extension": ".py",
   "mimetype": "text/x-python",
   "name": "python",
   "nbconvert_exporter": "python",
   "pygments_lexer": "ipython3",
   "version": "3.8.5"
  }
 },
 "nbformat": 4,
 "nbformat_minor": 1
}
